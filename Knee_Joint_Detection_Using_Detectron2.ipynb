{
  "nbformat": 4,
  "nbformat_minor": 0,
  "metadata": {
    "colab": {
      "provenance": [],
      "gpuType": "T4"
    },
    "kernelspec": {
      "name": "python3",
      "display_name": "Python 3"
    },
    "accelerator": "GPU"
  },
  "cells": [
    {
      "cell_type": "code",
      "source": [
        "# from google.colab import drive\n",
        "# drive.mount('/content/drive')"
      ],
      "metadata": {
        "id": "uvDCTSK7Ofk1"
      },
      "execution_count": null,
      "outputs": []
    },
    {
      "cell_type": "markdown",
      "metadata": {
        "id": "Yd6NebZ5hP0A"
      },
      "source": [
        "# Install Detectron2 Dependencies"
      ]
    },
    {
      "cell_type": "code",
      "metadata": {
        "id": "wXisIbT1Zqou",
        "collapsed": true
      },
      "source": [
        "!pip install pyyaml==5.1\n",
        "!python -m pip install 'git+https://github.com/facebookresearch/detectron2.git'"
      ],
      "execution_count": null,
      "outputs": []
    },
    {
      "cell_type": "code",
      "metadata": {
        "id": "2rCUZZnbhcyl"
      },
      "source": [
        "# import libraries\n",
        "import numpy as np\n",
        "import os, cv2, json, random\n",
        "from google.colab.patches import cv2_imshow\n",
        "\n",
        "# Setup detectron2 logger\n",
        "import detectron2\n",
        "from detectron2.utils.logger import setup_logger\n",
        "setup_logger()\n",
        "\n",
        "# import detectron2 utilities\n",
        "from detectron2 import model_zoo\n",
        "from detectron2.config import get_cfg\n",
        "from detectron2.engine import DefaultPredictor\n",
        "from detectron2.utils.visualizer import Visualizer\n",
        "from detectron2.data import MetadataCatalog, DatasetCatalog"
      ],
      "execution_count": null,
      "outputs": []
    },
    {
      "cell_type": "markdown",
      "metadata": {
        "id": "Kd0NJiPJhiu7"
      },
      "source": [
        "# Import Data"
      ]
    },
    {
      "cell_type": "code",
      "metadata": {
        "id": "7Mi9gsZzhokl"
      },
      "source": [
        "from detectron2.data.datasets import register_coco_instances\n",
        "register_coco_instances(\"train_dataset\", {}, \"/detection_dataset/train/_annotations.coco.json\", \"/detection_dataset/train\")\n",
        "register_coco_instances(\"test_dataset\", {}, \"/detection_dataset/valid/_annotations.coco.json\", \"/detection_dataset/valid\")"
      ],
      "execution_count": null,
      "outputs": []
    },
    {
      "cell_type": "markdown",
      "source": [
        "# Visualize training data"
      ],
      "metadata": {
        "id": "SxpUataDKqV3"
      }
    },
    {
      "cell_type": "code",
      "metadata": {
        "id": "BdTAusKE9zUQ",
        "collapsed": true
      },
      "source": [
        "my_dataset_train_metadata = MetadataCatalog.get(\"train_dataset\")\n",
        "dataset_dicts = DatasetCatalog.get(\"train_dataset\")\n",
        "\n",
        "for d in random.sample(dataset_dicts, 3):\n",
        "    img = cv2.imread(d[\"file_name\"])\n",
        "    visualizer = Visualizer(img[:, :, ::-1], metadata=my_dataset_train_metadata, scale=0.5)\n",
        "    vis = visualizer.draw_dataset_dict(d)\n",
        "    cv2_imshow(vis.get_image()[:, :, ::-1])"
      ],
      "execution_count": null,
      "outputs": []
    },
    {
      "cell_type": "markdown",
      "metadata": {
        "id": "okQbhIYIh_CL"
      },
      "source": [
        "# Detectron2 Training"
      ]
    },
    {
      "cell_type": "code",
      "source": [
        "from detectron2.engine import DefaultTrainer"
      ],
      "metadata": {
        "id": "UKp6KQvHKfmL"
      },
      "execution_count": null,
      "outputs": []
    },
    {
      "cell_type": "code",
      "metadata": {
        "id": "TPc8yVBVh52F",
        "collapsed": true
      },
      "source": [
        "cfg = get_cfg()\n",
        "cfg.merge_from_file(model_zoo.get_config_file(\"COCO-Detection/faster_rcnn_R_50_FPN_3x.yaml\"))\n",
        "cfg.DATASETS.TRAIN = (\"train_dataset\",)\n",
        "cfg.DATASETS.TEST = ()\n",
        "cfg.DATALOADER.NUM_WORKERS = 2\n",
        "cfg.MODEL.WEIGHTS = model_zoo.get_checkpoint_url(\"COCO-Detection/faster_rcnn_R_50_FPN_3x.yaml\")\n",
        "cfg.SOLVER.IMS_PER_BATCH = 2\n",
        "cfg.SOLVER.BASE_LR = 0.0025\n",
        "cfg.SOLVER.MAX_ITER = 600\n",
        "cfg.MODEL.ROI_HEADS.BATCH_SIZE_PER_IMAGE = 8\n",
        "cfg.MODEL.ROI_HEADS.NUM_CLASSES = 2\n",
        "\n",
        "\n",
        "os.makedirs(cfg.OUTPUT_DIR, exist_ok=True)\n",
        "trainer = DefaultTrainer(cfg)\n",
        "trainer.resume_or_load(resume=True)\n",
        "trainer.train()"
      ],
      "execution_count": null,
      "outputs": []
    },
    {
      "cell_type": "markdown",
      "source": [
        "# Visualise training results with tensorboard"
      ],
      "metadata": {
        "id": "NEAIrPzRKz0t"
      }
    },
    {
      "cell_type": "code",
      "metadata": {
        "id": "oca9rEQKif1h",
        "collapsed": true
      },
      "source": [
        "# Look at training curves in tensorboard:\n",
        "%load_ext tensorboard\n",
        "%tensorboard --logdir output"
      ],
      "execution_count": null,
      "outputs": []
    },
    {
      "cell_type": "code",
      "metadata": {
        "id": "HBUdNVhn1rHh"
      },
      "source": [
        "cfg.MODEL.WEIGHTS = os.path.join(cfg.OUTPUT_DIR, \"detection_model.pth\")\n",
        "cfg.MODEL.ROI_HEADS.SCORE_THRESH_TEST = 0.9   # set the testing threshold for this model\n",
        "cfg.DATASETS.TEST = (\"test_dataset\", )\n",
        "predictor = DefaultPredictor(cfg)"
      ],
      "execution_count": null,
      "outputs": []
    },
    {
      "cell_type": "markdown",
      "metadata": {
        "id": "A3BX34iXw1gU"
      },
      "source": [
        "# Inference with Detectron2 Saved Weights\n",
        "\n"
      ]
    },
    {
      "cell_type": "code",
      "source": [
        "import glob\n",
        "from detectron2.utils.visualizer import ColorMode"
      ],
      "metadata": {
        "id": "ZRLSgzIY-NL_"
      },
      "execution_count": null,
      "outputs": []
    },
    {
      "cell_type": "code",
      "source": [
        "test_metadata = MetadataCatalog.get(\"test_dataset\")"
      ],
      "metadata": {
        "id": "dF7Ag3LTwTcq"
      },
      "execution_count": null,
      "outputs": []
    },
    {
      "cell_type": "code",
      "metadata": {
        "id": "WiJ0Ylc_XAUa"
      },
      "source": [
        "for images in glob.glob('/detection_dataset/test/*jpg'):\n",
        "  im = cv2.imread(images)\n",
        "  outputs = predictor(im)\n",
        "  v = Visualizer(im[:, :, ::-1],\n",
        "                metadata=test_metadata,\n",
        "                scale=0.8\n",
        "                 )\n",
        "  out = v.draw_instance_predictions(outputs[\"instances\"].to(\"cpu\"))\n",
        "  cv2_imshow(out.get_image()[:, :, ::-1])\n"
      ],
      "execution_count": null,
      "outputs": []
    },
    {
      "cell_type": "markdown",
      "source": [
        "# Evaluation"
      ],
      "metadata": {
        "id": "Rr0aosmZw5Xb"
      }
    },
    {
      "cell_type": "code",
      "source": [
        "from detectron2.data import build_detection_test_loader\n",
        "from detectron2.evaluation import COCOEvaluator, inference_on_dataset"
      ],
      "metadata": {
        "id": "HymIJSAl-jjW"
      },
      "execution_count": null,
      "outputs": []
    },
    {
      "cell_type": "code",
      "source": [
        "evaluator = COCOEvaluator(\"_dataset_\", output_dir= \"/models/output\")\n",
        "val_loader = build_detection_test_loader(cfg, \"_dataset_\")\n",
        "print(inference_on_dataset(predictor.model, val_loader, evaluator))"
      ],
      "metadata": {
        "id": "4k4vLIIsw4gp",
        "collapsed": true
      },
      "execution_count": null,
      "outputs": []
    },
    {
      "cell_type": "code",
      "source": [
        "# Save cofig"
      ],
      "metadata": {
        "id": "j75HdGc7w4ey"
      },
      "execution_count": null,
      "outputs": []
    },
    {
      "cell_type": "code",
      "source": [
        "f = open('config.yml', 'w')\n",
        "f.write(cfg.dump())\n",
        "f.close()"
      ],
      "metadata": {
        "id": "Vy3qXI_Zw4ci"
      },
      "execution_count": null,
      "outputs": []
    }
  ]
}